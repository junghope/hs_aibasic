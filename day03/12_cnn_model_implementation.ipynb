{
 "cells": [
  {
   "cell_type": "markdown",
   "metadata": {
    "vscode": {
     "languageId": "plaintext"
    }
   },
   "source": [
    "# 12강: CNN 모델 구현과 성능 평가\n",
    "\n",
    "## 🎯 학습 목표\n",
    "- PyTorch로 CNN 모델을 직접 구현하고 학습\n",
    "- 이미지 분류 성능 평가 방법 이해\n",
    "- MNIST 데이터셋에서 MLP vs CNN 성능 비교 분석\n",
    "- 실제 이미지 분류 프로젝트 수행\n",
    "\n",
    "---\n",
    "\n",
    "## 📚 강의 개요 (60분)\n",
    "1. CNN 모델 구현 (20분)\n",
    "2. MNIST MLP vs CNN 성능 비교 (20분)\n",
    "3. 성능 평가 및 시각화 (20분)\n",
    "\n",
    "> **이전 강의 복습**: 11강에서 CNN의 이론적 배경과 컨볼루션 레이어의 원리를 학습했습니다!\n"
   ]
  },
  {
   "cell_type": "markdown",
   "metadata": {
    "vscode": {
     "languageId": "plaintext"
    }
   },
   "source": [
    "## 1. 환경 설정 및 라이브러리 임포트\n"
   ]
  },
  {
   "cell_type": "code",
   "execution_count": null,
   "metadata": {},
   "outputs": [],
   "source": [
    "# !pip install -U Pillow"
   ]
  },
  {
   "cell_type": "code",
   "execution_count": 2,
   "metadata": {},
   "outputs": [
    {
     "name": "stdout",
     "output_type": "stream",
     "text": [
      "Collecting seaborn\n",
      "  Downloading seaborn-0.13.2-py3-none-any.whl.metadata (5.4 kB)\n",
      "Requirement already satisfied: numpy!=1.24.0,>=1.20 in c:\\users\\jungh\\anaconda3\\envs\\aibasic\\lib\\site-packages (from seaborn) (1.26.4)\n",
      "Requirement already satisfied: pandas>=1.2 in c:\\users\\jungh\\anaconda3\\envs\\aibasic\\lib\\site-packages (from seaborn) (2.3.0)\n",
      "Requirement already satisfied: matplotlib!=3.6.1,>=3.4 in c:\\users\\jungh\\anaconda3\\envs\\aibasic\\lib\\site-packages (from seaborn) (3.9.4)\n",
      "Requirement already satisfied: contourpy>=1.0.1 in c:\\users\\jungh\\anaconda3\\envs\\aibasic\\lib\\site-packages (from matplotlib!=3.6.1,>=3.4->seaborn) (1.3.0)\n",
      "Requirement already satisfied: cycler>=0.10 in c:\\users\\jungh\\anaconda3\\envs\\aibasic\\lib\\site-packages (from matplotlib!=3.6.1,>=3.4->seaborn) (0.12.1)\n",
      "Requirement already satisfied: fonttools>=4.22.0 in c:\\users\\jungh\\anaconda3\\envs\\aibasic\\lib\\site-packages (from matplotlib!=3.6.1,>=3.4->seaborn) (4.58.4)\n",
      "Requirement already satisfied: kiwisolver>=1.3.1 in c:\\users\\jungh\\anaconda3\\envs\\aibasic\\lib\\site-packages (from matplotlib!=3.6.1,>=3.4->seaborn) (1.4.7)\n",
      "Requirement already satisfied: packaging>=20.0 in c:\\users\\jungh\\anaconda3\\envs\\aibasic\\lib\\site-packages (from matplotlib!=3.6.1,>=3.4->seaborn) (24.2)\n",
      "Requirement already satisfied: pillow>=8 in c:\\users\\jungh\\anaconda3\\envs\\aibasic\\lib\\site-packages (from matplotlib!=3.6.1,>=3.4->seaborn) (11.2.1)\n",
      "Requirement already satisfied: pyparsing>=2.3.1 in c:\\users\\jungh\\anaconda3\\envs\\aibasic\\lib\\site-packages (from matplotlib!=3.6.1,>=3.4->seaborn) (3.2.3)\n",
      "Requirement already satisfied: python-dateutil>=2.7 in c:\\users\\jungh\\anaconda3\\envs\\aibasic\\lib\\site-packages (from matplotlib!=3.6.1,>=3.4->seaborn) (2.9.0.post0)\n",
      "Requirement already satisfied: importlib-resources>=3.2.0 in c:\\users\\jungh\\anaconda3\\envs\\aibasic\\lib\\site-packages (from matplotlib!=3.6.1,>=3.4->seaborn) (6.5.2)\n",
      "Requirement already satisfied: zipp>=3.1.0 in c:\\users\\jungh\\anaconda3\\envs\\aibasic\\lib\\site-packages (from importlib-resources>=3.2.0->matplotlib!=3.6.1,>=3.4->seaborn) (3.21.0)\n",
      "Requirement already satisfied: pytz>=2020.1 in c:\\users\\jungh\\anaconda3\\envs\\aibasic\\lib\\site-packages (from pandas>=1.2->seaborn) (2025.2)\n",
      "Requirement already satisfied: tzdata>=2022.7 in c:\\users\\jungh\\anaconda3\\envs\\aibasic\\lib\\site-packages (from pandas>=1.2->seaborn) (2025.2)\n",
      "Requirement already satisfied: six>=1.5 in c:\\users\\jungh\\anaconda3\\envs\\aibasic\\lib\\site-packages (from python-dateutil>=2.7->matplotlib!=3.6.1,>=3.4->seaborn) (1.17.0)\n",
      "Downloading seaborn-0.13.2-py3-none-any.whl (294 kB)\n",
      "Installing collected packages: seaborn\n",
      "Successfully installed seaborn-0.13.2\n"
     ]
    }
   ],
   "source": [
    "!pip install seaborn"
   ]
  },
  {
   "cell_type": "code",
   "execution_count": 1,
   "metadata": {},
   "outputs": [
    {
     "name": "stderr",
     "output_type": "stream",
     "text": [
      "C:\\Users\\jungh\\Anaconda3\\envs\\aibasic\\lib\\site-packages\\torchvision\\io\\image.py:11: UserWarning: Failed to load image Python extension: Could not find module 'C:\\Users\\jungh\\Anaconda3\\envs\\aibasic\\Lib\\site-packages\\torchvision\\image.pyd' (or one of its dependencies). Try using the full path with constructor syntax.\n",
      "  warn(f\"Failed to load image Python extension: {e}\")\n"
     ]
    },
    {
     "name": "stdout",
     "output_type": "stream",
     "text": [
      "사용 디바이스: cuda\n",
      "GPU 이름: NVIDIA GeForce GTX 1650\n"
     ]
    }
   ],
   "source": [
    "import torch\n",
    "import torch.nn as nn\n",
    "import torch.optim as optim\n",
    "import torch.nn.functional as F\n",
    "from torch.utils.data import DataLoader\n",
    "import torchvision\n",
    "import torchvision.transforms as transforms\n",
    "\n",
    "import numpy as np\n",
    "import matplotlib.pyplot as plt\n",
    "import seaborn as sns\n",
    "from sklearn.metrics import classification_report, confusion_matrix\n",
    "import time\n",
    "\n",
    "# 한글 폰트 설정\n",
    "import matplotlib.font_manager as fm\n",
    "f = [f.name for f in fm.fontManager.ttflist]\n",
    "# print(f)\n",
    "# 확인 이후\n",
    "plt.rc('font', family='Malgun Gothic')\n",
    "\n",
    "# 시드 설정으로 재현 가능한 결과 보장\n",
    "torch.manual_seed(42)\n",
    "np.random.seed(42)\n",
    "\n",
    "# GPU 사용 가능 여부 확인\n",
    "device = torch.device('cuda' if torch.cuda.is_available() else 'cpu')\n",
    "print(f'사용 디바이스: {device}')\n",
    "if torch.cuda.is_available():\n",
    "    print(f'GPU 이름: {torch.cuda.get_device_name(0)}')\n"
   ]
  },
  {
   "cell_type": "markdown",
   "metadata": {},
   "source": [
    "## 2. MNIST 데이터셋 준비\n",
    "\n",
    "**📊 MNIST 데이터셋 소개:**\n",
    "- 손글씨 숫자 (0-9) 이미지 데이터셋\n",
    "- 훈련용: 60,000개, 테스트용: 10,000개\n",
    "- 이미지 크기: 28×28 픽셀 (흑백)\n",
    "- 컴퓨터 비전 분야의 \"Hello World\"\n"
   ]
  },
  {
   "cell_type": "code",
   "execution_count": 2,
   "metadata": {},
   "outputs": [
    {
     "name": "stdout",
     "output_type": "stream",
     "text": [
      "훈련 데이터 개수: 60000\n",
      "테스트 데이터 개수: 10000\n",
      "배치 크기: 128\n",
      "훈련 배치 개수: 469\n",
      "테스트 배치 개수: 79\n"
     ]
    }
   ],
   "source": [
    "# 데이터 전처리 파이프라인\n",
    "transform = transforms.Compose([\n",
    "    transforms.ToTensor(),  # PIL 이미지를 텐서로 변환 (0-1 정규화)\n",
    "    transforms.Normalize((0.1307,), (0.3081,))  # MNIST 평균과 표준편차로 정규화\n",
    "])\n",
    "\n",
    "# 데이터셋 로드\n",
    "train_dataset = torchvision.datasets.MNIST(\n",
    "    root='./data', \n",
    "    train=True, \n",
    "    download=True, \n",
    "    transform=transform\n",
    ")\n",
    "\n",
    "test_dataset = torchvision.datasets.MNIST(\n",
    "    root='./data', \n",
    "    train=False, \n",
    "    download=True, \n",
    "    transform=transform\n",
    ")\n",
    "\n",
    "# 데이터 로더 생성\n",
    "batch_size = 128\n",
    "train_loader = DataLoader(train_dataset, batch_size=batch_size, shuffle=True)\n",
    "test_loader = DataLoader(test_dataset, batch_size=batch_size, shuffle=False)\n",
    "\n",
    "print(f'훈련 데이터 개수: {len(train_dataset)}')\n",
    "print(f'테스트 데이터 개수: {len(test_dataset)}')\n",
    "print(f'배치 크기: {batch_size}')\n",
    "print(f'훈련 배치 개수: {len(train_loader)}')\n",
    "print(f'테스트 배치 개수: {len(test_loader)}')\n"
   ]
  },
  {
   "cell_type": "markdown",
   "metadata": {},
   "source": [
    "## 3. 모델 정의 - 간단한 방식으로!\n",
    "\n",
    "### 3.1 다층 퍼셉트론 (MLP) 모델\n",
    "**🎯 간단한 구현**: 클래스 대신 `nn.Sequential`을 사용\n"
   ]
  },
  {
   "cell_type": "code",
   "execution_count": 3,
   "metadata": {},
   "outputs": [
    {
     "name": "stdout",
     "output_type": "stream",
     "text": [
      "🧠 MLP 모델 구조:\n",
      "Sequential(\n",
      "  (0): Flatten(start_dim=1, end_dim=-1)\n",
      "  (1): Linear(in_features=784, out_features=512, bias=True)\n",
      "  (2): ReLU()\n",
      "  (3): Dropout(p=0.2, inplace=False)\n",
      "  (4): Linear(in_features=512, out_features=512, bias=True)\n",
      "  (5): ReLU()\n",
      "  (6): Dropout(p=0.2, inplace=False)\n",
      "  (7): Linear(in_features=512, out_features=10, bias=True)\n",
      ")\n",
      "\n",
      "📊 MLP 모델 파라미터 수: 669,706개\n",
      "\n",
      "📋 레이어별 파라미터 수:\n",
      "   레이어 1: Linear - 401,408개 파라미터\n",
      "   레이어 4: Linear - 262,144개 파라미터\n",
      "   레이어 7: Linear - 5,120개 파라미터\n"
     ]
    }
   ],
   "source": [
    "# 🧠 MLP 모델을 간단하게 만들어보자!\n",
    "# nn.Sequential을 사용하면 레이어들을 순서대로 쌓기만 하면 됩니다.\n",
    "\n",
    "mlp_model = nn.Sequential(\n",
    "    # 1. 이미지를 1차원으로 펼치기 (28x28 = 784)\n",
    "    nn.Flatten(),\n",
    "    \n",
    "    # 2. 첫 번째 완전연결층 (784 -> 512)\n",
    "    nn.Linear(784, 512),\n",
    "    nn.ReLU(),                    # 활성화 함수\n",
    "    nn.Dropout(0.2),             # 과적합 방지\n",
    "    \n",
    "    # 3. 두 번째 완전연결층 (512 -> 512)\n",
    "    nn.Linear(512, 512),\n",
    "    nn.ReLU(),\n",
    "    nn.Dropout(0.2),\n",
    "    \n",
    "    # 4. 출력층 (512 -> 10개 클래스)\n",
    "    nn.Linear(512, 10)\n",
    ").to(device)\n",
    "\n",
    "print(\"🧠 MLP 모델 구조:\")\n",
    "print(mlp_model)\n",
    "print(f\"\\n📊 MLP 모델 파라미터 수: {sum(p.numel() for p in mlp_model.parameters()):,}개\")\n",
    "\n",
    "# 🔍 각 레이어별 파라미터 수 확인해보기\n",
    "print(\"\\n📋 레이어별 파라미터 수:\")\n",
    "for i, layer in enumerate(mlp_model):\n",
    "    if hasattr(layer, 'weight'):\n",
    "        print(f\"   레이어 {i}: {layer.__class__.__name__} - {layer.weight.numel():,}개 파라미터\")\n"
   ]
  },
  {
   "cell_type": "markdown",
   "metadata": {},
   "source": [
    "### 3.2 CNN 모델\n",
    "**🔥 CNN도 마찬가지로 간단하게!** 레고 블록 쌓듯이 레이어를 차례대로 연결해보겠습니다.\n"
   ]
  },
  {
   "cell_type": "code",
   "execution_count": 4,
   "metadata": {},
   "outputs": [
    {
     "name": "stdout",
     "output_type": "stream",
     "text": [
      "🔥 CNN 모델 구조:\n",
      "Sequential(\n",
      "  (0): Conv2d(1, 32, kernel_size=(3, 3), stride=(1, 1), padding=(1, 1))\n",
      "  (1): ReLU()\n",
      "  (2): Conv2d(32, 64, kernel_size=(3, 3), stride=(1, 1), padding=(1, 1))\n",
      "  (3): ReLU()\n",
      "  (4): MaxPool2d(kernel_size=2, stride=2, padding=0, dilation=1, ceil_mode=False)\n",
      "  (5): Conv2d(64, 128, kernel_size=(3, 3), stride=(1, 1), padding=(1, 1))\n",
      "  (6): ReLU()\n",
      "  (7): Conv2d(128, 128, kernel_size=(3, 3), stride=(1, 1), padding=(1, 1))\n",
      "  (8): ReLU()\n",
      "  (9): MaxPool2d(kernel_size=2, stride=2, padding=0, dilation=1, ceil_mode=False)\n",
      "  (10): Flatten(start_dim=1, end_dim=-1)\n",
      "  (11): Linear(in_features=6272, out_features=512, bias=True)\n",
      "  (12): ReLU()\n",
      "  (13): Dropout(p=0.5, inplace=False)\n",
      "  (14): Linear(in_features=512, out_features=10, bias=True)\n",
      ")\n",
      "\n",
      "📊 CNN 모델 파라미터 수: 3,457,162개\n",
      "\n",
      "📋 CNN 레이어별 역할:\n",
      "   🖼️  Conv2d: 이미지의 특징(선, 모서리 등)을 찾아냄\n",
      "   ⚡ ReLU: 음수를 0으로 만들어 학습 효율 높임\n",
      "   📉 MaxPool2d: 이미지 크기를 줄여 연산량 감소\n",
      "   🔄 Flatten: 2D 이미지를 1D로 펼침\n",
      "   🧠 Linear: 최종 분류 결정\n"
     ]
    }
   ],
   "source": [
    "# 🔥 CNN 모델을 레고 블록처럼 쌓아보자!\n",
    "# 입력: 28x28x1 (흑백 이미지) → 출력: 10개 클래스\n",
    "\n",
    "cnn_model = nn.Sequential(\n",
    "    # 📸 첫 번째 컨볼루션 블록\n",
    "    nn.Conv2d(1, 32, kernel_size=3, padding=1),    # 28x28x1 → 28x28x32\n",
    "    nn.ReLU(),\n",
    "    nn.Conv2d(32, 64, kernel_size=3, padding=1),   # 28x28x32 → 28x28x64\n",
    "    nn.ReLU(),\n",
    "    nn.MaxPool2d(2, 2),                            # 28x28x64 → 14x14x64\n",
    "    \n",
    "    # 📸 두 번째 컨볼루션 블록  \n",
    "    nn.Conv2d(64, 128, kernel_size=3, padding=1),  # 14x14x64 → 14x14x128\n",
    "    nn.ReLU(),\n",
    "    nn.Conv2d(128, 128, kernel_size=3, padding=1), # 14x14x128 → 14x14x128\n",
    "    nn.ReLU(),\n",
    "    nn.MaxPool2d(2, 2),                            # 14x14x128 → 7x7x128\n",
    "    \n",
    "    # 🔄 이미지를 1차원으로 펼치기\n",
    "    nn.Flatten(),                                  # 7x7x128 → 6272\n",
    "    \n",
    "    # 🧠 완전연결층 (분류기)\n",
    "    nn.Linear(128 * 7 * 7, 512),                  # 6272 → 512\n",
    "    nn.ReLU(),\n",
    "    nn.Dropout(0.5),                               # 과적합 방지\n",
    "    nn.Linear(512, 10)                             # 512 → 10개 클래스\n",
    ").to(device)\n",
    "\n",
    "print(\"🔥 CNN 모델 구조:\")\n",
    "print(cnn_model)\n",
    "print(f\"\\n📊 CNN 모델 파라미터 수: {sum(p.numel() for p in cnn_model.parameters()):,}개\")\n",
    "\n",
    "# 🔍 CNN 레이어별 설명\n",
    "print(\"\\n📋 CNN 레이어별 역할:\")\n",
    "print(\"   🖼️  Conv2d: 이미지의 특징(선, 모서리 등)을 찾아냄\")\n",
    "print(\"   ⚡ ReLU: 음수를 0으로 만들어 학습 효율 높임\") \n",
    "print(\"   📉 MaxPool2d: 이미지 크기를 줄여 연산량 감소\")\n",
    "print(\"   🔄 Flatten: 2D 이미지를 1D로 펼침\")\n",
    "print(\"   🧠 Linear: 최종 분류 결정\")\n"
   ]
  },
  {
   "cell_type": "markdown",
   "metadata": {},
   "source": [
    "### 3.3 데이터 샘플 확인하기\n",
    "실제 MNIST 데이터가 어떻게 생겼는지 확인\n"
   ]
  },
  {
   "cell_type": "code",
   "execution_count": 5,
   "metadata": {},
   "outputs": [
    {
     "name": "stdout",
     "output_type": "stream",
     "text": [
      "🖼️  이미지 배치 크기: torch.Size([128, 1, 28, 28])\n",
      "🏷️  레이블 배치 크기: torch.Size([128])\n"
     ]
    },
    {
     "data": {
      "image/png": "[encoded data removed]",
      "text/plain": [
       "<Figure size 1200x600 with 8 Axes>"
      ]
     },
     "metadata": {},
     "output_type": "display_data"
    },
    {
     "name": "stdout",
     "output_type": "stream",
     "text": [
      "✅ 위 이미지들이 우리가 분류할 손글씨 숫자들입니다!\n",
      "\n",
      "📊 데이터 정보:\n",
      "   이미지 픽셀 값 범위: -0.424 ~ 2.821\n",
      "   레이블 종류: [0, 1, 2, 3, 4, 5, 6, 7, 8, 9]\n",
      "   정규화 적용됨: 평균 ≈ 0, 표준편차 ≈ 1\n"
     ]
    }
   ],
   "source": [
    "# 📸 MNIST 데이터 샘플 확인하기\n",
    "# 첫 번째 배치의 데이터 가져오기\n",
    "data_iter = iter(train_loader)\n",
    "images, labels = next(data_iter)\n",
    "\n",
    "print(f\"🖼️  이미지 배치 크기: {images.shape}\")  # [배치크기, 채널, 높이, 너비]\n",
    "print(f\"🏷️  레이블 배치 크기: {labels.shape}\")  # [배치크기]\n",
    "\n",
    "# 처음 8개 이미지 시각화\n",
    "fig, axes = plt.subplots(2, 4, figsize=(12, 6))\n",
    "fig.suptitle('MNIST 데이터셋 샘플', fontsize=16, fontweight='bold')\n",
    "\n",
    "for i in range(8):\n",
    "    row = i // 4\n",
    "    col = i % 4\n",
    "    \n",
    "    # 이미지 데이터 (텐서 → numpy 배열로 변환)\n",
    "    img = images[i].squeeze().numpy()  # (1, 28, 28) → (28, 28)\n",
    "    label = labels[i].item()\n",
    "    \n",
    "    axes[row, col].imshow(img, cmap='gray')\n",
    "    axes[row, col].set_title(f'숫자: {label}', fontsize=12, fontweight='bold')\n",
    "    axes[row, col].axis('off')\n",
    "\n",
    "plt.tight_layout()\n",
    "plt.show()\n",
    "\n",
    "print(\"✅ 위 이미지들이 우리가 분류할 손글씨 숫자들입니다!\")\n",
    "\n",
    "# 🔍 데이터 정보\n",
    "print(f\"\\n📊 데이터 정보:\")\n",
    "print(f\"   이미지 픽셀 값 범위: {images.min():.3f} ~ {images.max():.3f}\")\n",
    "print(f\"   레이블 종류: {torch.unique(labels).tolist()}\")\n",
    "print(f\"   정규화 적용됨: 평균 ≈ 0, 표준편차 ≈ 1\")\n"
   ]
  },
  {
   "cell_type": "markdown",
   "metadata": {},
   "source": [
    "## 4. 학습 및 평가 함수\n"
   ]
  },
  {
   "cell_type": "code",
   "execution_count": 6,
   "metadata": {},
   "outputs": [],
   "source": [
    "def train_model(model, train_loader, criterion, optimizer, epochs=10):\n",
    "    \"\"\"모델 학습 함수\"\"\"\n",
    "    model.train()\n",
    "    train_losses = []\n",
    "    train_accuracies = []\n",
    "    \n",
    "    for epoch in range(epochs):\n",
    "        running_loss = 0.0\n",
    "        correct = 0\n",
    "        total = 0\n",
    "        \n",
    "        for batch_idx, (data, target) in enumerate(train_loader):\n",
    "            data, target = data.to(device), target.to(device)\n",
    "            \n",
    "            optimizer.zero_grad()\n",
    "            output = model(data)\n",
    "            loss = criterion(output, target)\n",
    "            loss.backward()\n",
    "            optimizer.step()\n",
    "            \n",
    "            running_loss += loss.item()\n",
    "            _, predicted = torch.max(output.data, 1)\n",
    "            total += target.size(0)\n",
    "            correct += (predicted == target).sum().item()\n",
    "            \n",
    "            if batch_idx % 100 == 0:\n",
    "                print(f'Epoch {epoch+1}/{epochs}, Batch {batch_idx}/{len(train_loader)}, '\n",
    "                      f'Loss: {loss.item():.4f}')\n",
    "        \n",
    "        epoch_loss = running_loss / len(train_loader)\n",
    "        epoch_acc = 100. * correct / total\n",
    "        \n",
    "        train_losses.append(epoch_loss)\n",
    "        train_accuracies.append(epoch_acc)\n",
    "        \n",
    "        print(f'Epoch {epoch+1}/{epochs} - Loss: {epoch_loss:.4f}, Accuracy: {epoch_acc:.2f}%')\n",
    "    \n",
    "    return train_losses, train_accuracies\n",
    "\n",
    "def evaluate_model(model, test_loader):\n",
    "    \"\"\"모델 평가 함수\"\"\"\n",
    "    model.eval()\n",
    "    test_loss = 0\n",
    "    correct = 0\n",
    "    predictions = []\n",
    "    true_labels = []\n",
    "    \n",
    "    with torch.no_grad():\n",
    "        for data, target in test_loader:\n",
    "            data, target = data.to(device), target.to(device)\n",
    "            output = model(data)\n",
    "            test_loss += F.cross_entropy(output, target, reduction='sum').item()\n",
    "            pred = output.argmax(dim=1, keepdim=True)\n",
    "            correct += pred.eq(target.view_as(pred)).sum().item()\n",
    "            \n",
    "            predictions.extend(pred.cpu().numpy().flatten())\n",
    "            true_labels.extend(target.cpu().numpy())\n",
    "    \n",
    "    test_loss /= len(test_loader.dataset)\n",
    "    accuracy = 100. * correct / len(test_loader.dataset)\n",
    "    \n",
    "    print(f'Test Loss: {test_loss:.4f}, Test Accuracy: {accuracy:.2f}%')\n",
    "    \n",
    "    return test_loss, accuracy, predictions, true_labels\n"
   ]
  },
  {
   "cell_type": "markdown",
   "metadata": {},
   "source": [
    "## 5. MLP vs CNN 성능 비교\n",
    "\n",
    "### 5.1 MLP 모델 학습\n"
   ]
  },
  {
   "cell_type": "code",
   "execution_count": 7,
   "metadata": {},
   "outputs": [
    {
     "name": "stdout",
     "output_type": "stream",
     "text": [
      "🧠 MLP 모델 학습 시작!\n",
      "==================================================\n",
      "Epoch 1/5, Batch 0/469, Loss: 2.3147\n",
      "Epoch 1/5, Batch 100/469, Loss: 0.2459\n",
      "Epoch 1/5, Batch 200/469, Loss: 0.2239\n",
      "Epoch 1/5, Batch 300/469, Loss: 0.1189\n",
      "Epoch 1/5, Batch 400/469, Loss: 0.1135\n",
      "Epoch 1/5 - Loss: 0.2443, Accuracy: 92.69%\n",
      "Epoch 2/5, Batch 0/469, Loss: 0.1813\n",
      "Epoch 2/5, Batch 100/469, Loss: 0.1990\n",
      "Epoch 2/5, Batch 200/469, Loss: 0.2641\n",
      "Epoch 2/5, Batch 300/469, Loss: 0.0827\n",
      "Epoch 2/5, Batch 400/469, Loss: 0.0761\n",
      "Epoch 2/5 - Loss: 0.1087, Accuracy: 96.67%\n",
      "Epoch 3/5, Batch 0/469, Loss: 0.0986\n",
      "Epoch 3/5, Batch 100/469, Loss: 0.1169\n",
      "Epoch 3/5, Batch 200/469, Loss: 0.1133\n",
      "Epoch 3/5, Batch 300/469, Loss: 0.0823\n",
      "Epoch 3/5, Batch 400/469, Loss: 0.0511\n",
      "Epoch 3/5 - Loss: 0.0825, Accuracy: 97.36%\n",
      "Epoch 4/5, Batch 0/469, Loss: 0.0492\n",
      "Epoch 4/5, Batch 100/469, Loss: 0.0491\n",
      "Epoch 4/5, Batch 200/469, Loss: 0.0929\n",
      "Epoch 4/5, Batch 300/469, Loss: 0.0712\n",
      "Epoch 4/5, Batch 400/469, Loss: 0.0473\n",
      "Epoch 4/5 - Loss: 0.0646, Accuracy: 97.99%\n",
      "Epoch 5/5, Batch 0/469, Loss: 0.0164\n",
      "Epoch 5/5, Batch 100/469, Loss: 0.0409\n",
      "Epoch 5/5, Batch 200/469, Loss: 0.0985\n",
      "Epoch 5/5, Batch 300/469, Loss: 0.0504\n",
      "Epoch 5/5, Batch 400/469, Loss: 0.0225\n",
      "Epoch 5/5 - Loss: 0.0563, Accuracy: 98.18%\n",
      "\n",
      "✅ MLP 학습 완료! 소요 시간: 75.11초\n",
      "\n",
      "📊 MLP 모델 평가 중...\n",
      "Test Loss: 0.0736, Test Accuracy: 97.91%\n"
     ]
    }
   ],
   "source": [
    "print(\"🧠 MLP 모델 학습 시작!\")\n",
    "print(\"=\" * 50)\n",
    "\n",
    "# MLP 모델 학습 설정\n",
    "mlp_criterion = nn.CrossEntropyLoss()\n",
    "mlp_optimizer = optim.Adam(mlp_model.parameters(), lr=0.001)\n",
    "\n",
    "# MLP 학습 시간 측정\n",
    "mlp_start_time = time.time()\n",
    "mlp_train_losses, mlp_train_accuracies = train_model(\n",
    "    mlp_model, train_loader, mlp_criterion, mlp_optimizer, epochs=5\n",
    ")\n",
    "mlp_train_time = time.time() - mlp_start_time\n",
    "\n",
    "print(f\"\\n✅ MLP 학습 완료! 소요 시간: {mlp_train_time:.2f}초\")\n",
    "\n",
    "# MLP 모델 평가\n",
    "print(\"\\n📊 MLP 모델 평가 중...\")\n",
    "mlp_test_loss, mlp_accuracy, mlp_predictions, mlp_true_labels = evaluate_model(mlp_model, test_loader)\n"
   ]
  },
  {
   "cell_type": "markdown",
   "metadata": {},
   "source": [
    "### 5.2 CNN 모델 학습\n"
   ]
  },
  {
   "cell_type": "code",
   "execution_count": 8,
   "metadata": {},
   "outputs": [
    {
     "name": "stdout",
     "output_type": "stream",
     "text": [
      "🔥 CNN 모델 학습 시작!\n",
      "==================================================\n",
      "Epoch 1/5, Batch 0/469, Loss: 2.2973\n",
      "Epoch 1/5, Batch 100/469, Loss: 0.1127\n",
      "Epoch 1/5, Batch 200/469, Loss: 0.2266\n",
      "Epoch 1/5, Batch 300/469, Loss: 0.1434\n",
      "Epoch 1/5, Batch 400/469, Loss: 0.0559\n",
      "Epoch 1/5 - Loss: 0.1472, Accuracy: 95.42%\n",
      "Epoch 2/5, Batch 0/469, Loss: 0.0494\n",
      "Epoch 2/5, Batch 100/469, Loss: 0.0554\n",
      "Epoch 2/5, Batch 200/469, Loss: 0.0717\n",
      "Epoch 2/5, Batch 300/469, Loss: 0.0672\n",
      "Epoch 2/5, Batch 400/469, Loss: 0.0256\n",
      "Epoch 2/5 - Loss: 0.0449, Accuracy: 98.61%\n",
      "Epoch 3/5, Batch 0/469, Loss: 0.0572\n",
      "Epoch 3/5, Batch 100/469, Loss: 0.0217\n",
      "Epoch 3/5, Batch 200/469, Loss: 0.0455\n",
      "Epoch 3/5, Batch 300/469, Loss: 0.0524\n",
      "Epoch 3/5, Batch 400/469, Loss: 0.0125\n",
      "Epoch 3/5 - Loss: 0.0318, Accuracy: 99.03%\n",
      "Epoch 4/5, Batch 0/469, Loss: 0.0181\n",
      "Epoch 4/5, Batch 100/469, Loss: 0.1367\n",
      "Epoch 4/5, Batch 200/469, Loss: 0.0059\n",
      "Epoch 4/5, Batch 300/469, Loss: 0.0117\n",
      "Epoch 4/5, Batch 400/469, Loss: 0.0315\n",
      "Epoch 4/5 - Loss: 0.0234, Accuracy: 99.28%\n",
      "Epoch 5/5, Batch 0/469, Loss: 0.0252\n",
      "Epoch 5/5, Batch 100/469, Loss: 0.0063\n",
      "Epoch 5/5, Batch 200/469, Loss: 0.0229\n",
      "Epoch 5/5, Batch 300/469, Loss: 0.0068\n",
      "Epoch 5/5, Batch 400/469, Loss: 0.0423\n",
      "Epoch 5/5 - Loss: 0.0217, Accuracy: 99.32%\n",
      "\n",
      "✅ CNN 학습 완료! 소요 시간: 137.26초\n",
      "\n",
      "📊 CNN 모델 평가 중...\n",
      "Test Loss: 0.0287, Test Accuracy: 99.09%\n"
     ]
    }
   ],
   "source": [
    "print(\"🔥 CNN 모델 학습 시작!\")\n",
    "print(\"=\" * 50)\n",
    "\n",
    "# CNN 모델 학습 설정\n",
    "cnn_criterion = nn.CrossEntropyLoss()\n",
    "cnn_optimizer = optim.Adam(cnn_model.parameters(), lr=0.001)\n",
    "\n",
    "# CNN 학습 시간 측정\n",
    "cnn_start_time = time.time()\n",
    "cnn_train_losses, cnn_train_accuracies = train_model(\n",
    "    cnn_model, train_loader, cnn_criterion, cnn_optimizer, epochs=5\n",
    ")\n",
    "cnn_train_time = time.time() - cnn_start_time\n",
    "\n",
    "print(f\"\\n✅ CNN 학습 완료! 소요 시간: {cnn_train_time:.2f}초\")\n",
    "\n",
    "# CNN 모델 평가\n",
    "print(\"\\n📊 CNN 모델 평가 중...\")\n",
    "cnn_test_loss, cnn_accuracy, cnn_predictions, cnn_true_labels = evaluate_model(cnn_model, test_loader)\n"
   ]
  },
  {
   "cell_type": "markdown",
   "metadata": {},
   "source": [
    "### 5.3 성능 비교 분석\n"
   ]
  },
  {
   "cell_type": "code",
   "execution_count": 9,
   "metadata": {},
   "outputs": [
    {
     "name": "stdout",
     "output_type": "stream",
     "text": [
      "📈 MLP vs CNN 성능 비교 결과\n",
      "============================================================\n",
      " 모델  파라미터 수  테스트 정확도 (%)   테스트 손실  학습 시간 (초)\n",
      "MLP  669706        97.91 0.073585  75.111257\n",
      "CNN 3457162        99.09 0.028658 137.257576\n",
      "\n",
      "🏆 성능 차이:\n",
      "   정확도 향상: 1.18%p\n",
      "   손실 감소: 0.0449\n",
      "   🎯 CNN이 MLP보다 1.18%p 더 높은 성능!\n"
     ]
    }
   ],
   "source": [
    "print(\"📈 MLP vs CNN 성능 비교 결과\")\n",
    "print(\"=\" * 60)\n",
    "\n",
    "# 성능 비교 표\n",
    "comparison_data = {\n",
    "    '모델': ['MLP', 'CNN'],\n",
    "    '파라미터 수': [\n",
    "        sum(p.numel() for p in mlp_model.parameters()),\n",
    "        sum(p.numel() for p in cnn_model.parameters())\n",
    "    ],\n",
    "    '테스트 정확도 (%)': [mlp_accuracy, cnn_accuracy],\n",
    "    '테스트 손실': [mlp_test_loss, cnn_test_loss],\n",
    "    '학습 시간 (초)': [mlp_train_time, cnn_train_time]\n",
    "}\n",
    "\n",
    "import pandas as pd\n",
    "comparison_df = pd.DataFrame(comparison_data)\n",
    "print(comparison_df.to_string(index=False))\n",
    "\n",
    "print(f\"\\n🏆 성능 차이:\")\n",
    "print(f\"   정확도 향상: {cnn_accuracy - mlp_accuracy:.2f}%p\")\n",
    "print(f\"   손실 감소: {mlp_test_loss - cnn_test_loss:.4f}\")\n",
    "\n",
    "if cnn_accuracy > mlp_accuracy:\n",
    "    print(f\"   🎯 CNN이 MLP보다 {cnn_accuracy - mlp_accuracy:.2f}%p 더 높은 성능!\")\n",
    "else:\n",
    "    print(f\"   🤔 MLP가 CNN보다 {mlp_accuracy - cnn_accuracy:.2f}%p 더 높은 성능!\")\n"
   ]
  },
  {
   "cell_type": "markdown",
   "metadata": {},
   "source": [
    "## 6. 시각화 및 상세 분석\n"
   ]
  },
  {
   "cell_type": "code",
   "execution_count": 10,
   "metadata": {},
   "outputs": [
    {
     "data": {
      "image/png": "[encoded data removed]",
      "text/plain": [
       "<Figure size 1500x1000 with 4 Axes>"
      ]
     },
     "metadata": {},
     "output_type": "display_data"
    }
   ],
   "source": [
    "# 학습 곡선 시각화\n",
    "fig, ((ax1, ax2), (ax3, ax4)) = plt.subplots(2, 2, figsize=(15, 10))\n",
    "\n",
    "# 1. 학습 손실 비교\n",
    "ax1.plot(mlp_train_losses, 'b-', label='MLP', linewidth=2)\n",
    "ax1.plot(cnn_train_losses, 'r-', label='CNN', linewidth=2)\n",
    "ax1.set_title('Training Loss Comparison', fontsize=14, fontweight='bold')\n",
    "ax1.set_xlabel('Epoch')\n",
    "ax1.set_ylabel('Loss')\n",
    "ax1.legend()\n",
    "ax1.grid(True, alpha=0.3)\n",
    "\n",
    "# 2. 학습 정확도 비교\n",
    "ax2.plot(mlp_train_accuracies, 'b-', label='MLP', linewidth=2)\n",
    "ax2.plot(cnn_train_accuracies, 'r-', label='CNN', linewidth=2)\n",
    "ax2.set_title('Training Accuracy Comparison', fontsize=14, fontweight='bold')\n",
    "ax2.set_xlabel('Epoch')\n",
    "ax2.set_ylabel('Accuracy (%)')\n",
    "ax2.legend()\n",
    "ax2.grid(True, alpha=0.3)\n",
    "\n",
    "# 3. 성능 비교 막대 그래프\n",
    "models = ['MLP', 'CNN']\n",
    "accuracies = [mlp_accuracy, cnn_accuracy]\n",
    "colors = ['skyblue', 'lightcoral']\n",
    "\n",
    "bars = ax3.bar(models, accuracies, color=colors, alpha=0.8, edgecolor='black')\n",
    "ax3.set_title('Test Accuracy Comparison', fontsize=14, fontweight='bold')\n",
    "ax3.set_ylabel('Accuracy (%)')\n",
    "ax3.set_ylim(90, 100)\n",
    "\n",
    "# 막대 위에 정확도 값 표시\n",
    "for bar, acc in zip(bars, accuracies):\n",
    "    height = bar.get_height()\n",
    "    ax3.text(bar.get_x() + bar.get_width()/2., height + 0.1,\n",
    "             f'{acc:.2f}%', ha='center', va='bottom', fontweight='bold')\n",
    "\n",
    "# 4. 파라미터 수 비교\n",
    "param_counts = [sum(p.numel() for p in mlp_model.parameters()), \n",
    "                sum(p.numel() for p in cnn_model.parameters())]\n",
    "param_counts_millions = [count/1e6 for count in param_counts]\n",
    "\n",
    "bars2 = ax4.bar(models, param_counts_millions, color=colors, alpha=0.8, edgecolor='black')\n",
    "ax4.set_title('Model Parameters Comparison', fontsize=14, fontweight='bold')\n",
    "ax4.set_ylabel('Parameters (Millions)')\n",
    "\n",
    "# 막대 위에 파라미터 수 표시\n",
    "for bar, count in zip(bars2, param_counts_millions):\n",
    "    height = bar.get_height()\n",
    "    ax4.text(bar.get_x() + bar.get_width()/2., height + 0.01,\n",
    "             f'{count:.2f}M', ha='center', va='bottom', fontweight='bold')\n",
    "\n",
    "plt.tight_layout()\n",
    "plt.show()\n"
   ]
  },
  {
   "cell_type": "markdown",
   "metadata": {},
   "source": [
    "## 7. 결론 및 학습 정리\n",
    "\n",
    "### 🎯 주요 학습 내용\n",
    "\n",
    "1. **CNN의 우수성 확인**\n",
    "   - 이미지 데이터에서 CNN이 MLP보다 일반적으로 더 나은 성능\n",
    "   - 공간적 정보 보존으로 특징 추출 능력 향상\n",
    "\n",
    "2. **모델 비교 분석**\n",
    "   - 파라미터 효율성\n",
    "   - 학습 속도와 수렴성\n",
    "   - 일반화 성능\n",
    "\n",
    "3. **실무 적용 관점**\n",
    "   - 이미지 분류 문제에서 CNN 선택의 근거\n",
    "   - 모델 복잡도와 성능의 트레이드오프\n"
   ]
  },
  {
   "cell_type": "code",
   "execution_count": null,
   "metadata": {},
   "outputs": [],
   "source": []
  }
 ],
 "metadata": {
  "kernelspec": {
   "display_name": "aibasic",
   "language": "python",
   "name": "aibasic"
  },
  "language_info": {
   "codemirror_mode": {
    "name": "ipython",
    "version": 3
   },
   "file_extension": ".py",
   "mimetype": "text/x-python",
   "name": "python",
   "nbconvert_exporter": "python",
   "pygments_lexer": "ipython3",
   "version": "3.9.23"
  }
 },
 "nbformat": 4,
 "nbformat_minor": 4
}
