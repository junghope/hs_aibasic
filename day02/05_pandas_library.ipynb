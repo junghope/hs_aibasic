{
 "cells": [
  {
   "cell_type": "markdown",
   "metadata": {
    "id": "r7EYQF7TuT1j"
   },
   "source": [
    "# 강의 복습\n",
    "\n",
    "## 🎯 복습 내용\n",
    "\n",
    "### 2시차\n",
    "\n",
    "1. **변수와 데이터 타입**\n",
    "   - 기본 데이터 타입: int, float, str, bool, list, tuple, dict\n",
    "   - 변수 선언과 할당\n",
    "   - type() 함수로 타입 확인\n",
    "\n",
    "2. **연산자와 표현식**\n",
    "   - 산술 연산자: +, -, *, /, //, %, **\n",
    "   - 복합 대입 연산자: +=, -=, *=, /=\n",
    "   - 비교 연산자: ==, !=, >, <, >=, <=\n",
    "   - 논리 연산자: and, or, not\n",
    "\n",
    "3. **입출력 처리**\n",
    "   - input() 함수로 사용자 입력 받기\n",
    "   - 타입 변환: int(), float(), str()\n",
    "   - print() 함수로 출력\n",
    "\n",
    "4. **문자열 다루기**\n",
    "   - 문자열 메서드: upper(), lower(), split(), join()\n",
    "   - 문자열 슬라이싱과 인덱싱\n",
    "   - 문자열 포매팅: f-string, format(), % 포매팅\n",
    "\n",
    "### 3시차\n",
    "\n",
    "1. **조건문**: if-elif-else, 논리 연산자\n",
    "2. **반복문**: for, while, break, continue\n",
    "3. **무한 반복문**: while True와 break 활용\n",
    "4. **함수**: 정의, 매개변수, 반환값\n",
    "5. **람다 함수**: filter, map 기본 활용\n",
    "   \n",
    "### 4시차\n",
    "\n",
    "1. **리스트**: 순서가 있고 변경 가능한 데이터 모음\n",
    "   - 핵심 메서드: `append()`, `remove()`, `sort()`, `pop()`\n",
    "2. **딕셔너리**: 키-값 쌍으로 데이터를 저장\n",
    "   - 핵심 메서드: `keys()`, `values()`, `items()`, `get()`\n",
    "3. **튜플**: 순서가 있지만 변경 불가능한 데이터 모음\n",
    "   - 핵심 메서드: `count()`, `index()`\n",
    "4. **집합**: 중복 없는 데이터 모음\n",
    "   - 핵심 메서드: `add()`, `remove()`, `union()`, `intersection()`\n",
    "5. **파일 처리**: with문을 사용한 안전한 파일 입출력"
   ]
  },
  {
   "cell_type": "markdown",
   "metadata": {
    "id": "w1ha62wQuT1o"
   },
   "source": [
    "## 저장했던 메모 불러오기"
   ]
  },
  {
   "cell_type": "code",
   "execution_count": 2,
   "metadata": {
    "colab": {
     "base_uri": "https://localhost:8080/",
     "height": 221
    },
    "executionInfo": {
     "elapsed": 118,
     "status": "error",
     "timestamp": 1751033465478,
     "user": {
      "displayName": "이정호",
      "userId": "13467931158929639756"
     },
     "user_tz": -540
    },
    "id": "oVkJBGAIuT1p",
    "outputId": "8ab99cb6-ba36-4c35-8759-c87663efcb01"
   },
   "outputs": [
    {
     "name": "stdout",
     "output_type": "stream",
     "text": [
      "오늘 배운 것들:\n",
      "1. 리스트 - 쇼핑 목록 만들기\n",
      "2. 딕셔너리 - 친구 연락처 만들기\n",
      "3. 파일 저장 - 이 메모처럼!\n",
      "\n"
     ]
    }
   ],
   "source": [
    "filename = r\"my_memo.txt\"\n",
    "\n",
    "txt = open(filename, mode = 'r', encoding='UTF-8')\n",
    "read_all = txt.read()\n",
    "print(read_all)"
   ]
  },
  {
   "cell_type": "code",
   "execution_count": 3,
   "metadata": {
    "id": "6nWxDFvUuT1r",
    "outputId": "7fab45c2-dc24-4bc2-c4ae-3e6c06d50ff7"
   },
   "outputs": [
    {
     "name": "stdout",
     "output_type": "stream",
     "text": [
      "['오늘 배운 것들:\\n', '1. 리스트 - 쇼핑 목록 만들기\\n', '2. 딕셔너리 - 친구 연락처 만들기\\n', '3. 파일 저장 - 이 메모처럼!\\n']\n",
      "오늘 배운 것들:\n",
      "\n",
      "1. 리스트 - 쇼핑 목록 만들기\n",
      "\n",
      "2. 딕셔너리 - 친구 연락처 만들기\n",
      "\n",
      "3. 파일 저장 - 이 메모처럼!\n",
      "\n"
     ]
    }
   ],
   "source": [
    "filename = r\"my_memo.txt\"\n",
    "txt = open(filename, mode = 'r', encoding='UTF-8')\n",
    "read_lines = txt.readlines()\n",
    "print(read_lines)\n",
    "for line in read_lines:\n",
    "    print(line)\n"
   ]
  },
  {
   "cell_type": "code",
   "execution_count": null,
   "metadata": {
    "id": "Co0Z4qlduT1s",
    "outputId": "6b68dfd6-71bc-4f61-85e7-db6542418c96"
   },
   "outputs": [
    {
     "name": "stdout",
     "output_type": "stream",
     "text": [
      "<class 'str'>\n",
      "<class 'list'>\n"
     ]
    }
   ],
   "source": [
    "print(type(lines))\n",
    "print(type(read_lines))"
   ]
  },
  {
   "cell_type": "code",
   "execution_count": null,
   "metadata": {
    "id": "5NwoBqZ1uT1t",
    "outputId": "9a5d63e4-6bca-4689-b317-cc4ff9cca723"
   },
   "outputs": [
    {
     "name": "stdout",
     "output_type": "stream",
     "text": [
      "69\n",
      "4\n",
      "<class 'str'>\n"
     ]
    }
   ],
   "source": [
    "print(len(lines))\n",
    "print(len(read_lines))\n",
    "print(type(read_lines[0]))"
   ]
  },
  {
   "cell_type": "markdown",
   "metadata": {
    "id": "C0acZZ5-z7Y6",
    "vscode": {
     "languageId": "plaintext"
    }
   },
   "source": [
    "# 5강: Pandas 라이브러리 활용\n",
    "\n",
    "## 🎯 학습 목표\n",
    "- DataFrame 생성과 기본 조작 방법 학습\n",
    "- 데이터 필터링과 정렬 기법 습득\n",
    "- 그룹화와 집계 함수 활용법 익히기\n",
    "- 결측치 처리 방법 완전 정복\n",
    "\n",
    "---\n",
    "\n",
    "## 📚 강의 개요 (60분)\n",
    "1. DataFrame 생성 및 기본 조작 (15분)\n",
    "2. 데이터 필터링과 정렬 (15분)\n",
    "3. 그룹화와 집계 함수 (15분)\n",
    "4. 결측치 처리 방법 (10분)\n",
    "5. 실습 및 정리 (5분)\n"
   ]
  },
  {
   "cell_type": "code",
   "execution_count": null,
   "metadata": {
    "id": "Uz0A6HCXuT1w"
   },
   "outputs": [],
   "source": [
    "# python -m ipykernel install --user --name aibasic --display-name aibasic"
   ]
  },
  {
   "cell_type": "code",
   "execution_count": null,
   "metadata": {
    "id": "hkVLeIM0uT1w",
    "outputId": "69de34b1-834c-434c-f6af-dff5f539726c"
   },
   "outputs": [
    {
     "name": "stdout",
     "output_type": "stream",
     "text": [
      "Collecting pandas\n",
      "  Downloading pandas-2.3.0-cp39-cp39-manylinux_2_17_x86_64.manylinux2014_x86_64.whl.metadata (91 kB)\n",
      "Requirement already satisfied: numpy>=1.22.4 in /home/jhlee/anaconda3/envs/py39_hsai/lib/python3.9/site-packages (from pandas) (2.0.2)\n",
      "Requirement already satisfied: python-dateutil>=2.8.2 in /home/jhlee/anaconda3/envs/py39_hsai/lib/python3.9/site-packages (from pandas) (2.9.0.post0)\n",
      "Collecting pytz>=2020.1 (from pandas)\n",
      "  Using cached pytz-2025.2-py2.py3-none-any.whl.metadata (22 kB)\n",
      "Collecting tzdata>=2022.7 (from pandas)\n",
      "  Using cached tzdata-2025.2-py2.py3-none-any.whl.metadata (1.4 kB)\n",
      "Requirement already satisfied: six>=1.5 in /home/jhlee/anaconda3/envs/py39_hsai/lib/python3.9/site-packages (from python-dateutil>=2.8.2->pandas) (1.17.0)\n",
      "Downloading pandas-2.3.0-cp39-cp39-manylinux_2_17_x86_64.manylinux2014_x86_64.whl (12.4 MB)\n",
      "\u001b[2K   \u001b[90m━━━━━━━━━━━━━━━━━━━━━━━━━━━━━━━━━━━━━━━━\u001b[0m \u001b[32m12.4/12.4 MB\u001b[0m \u001b[31m11.4 MB/s\u001b[0m eta \u001b[36m0:00:00\u001b[0ma \u001b[36m0:00:01\u001b[0m\n",
      "\u001b[?25hUsing cached pytz-2025.2-py2.py3-none-any.whl (509 kB)\n",
      "Using cached tzdata-2025.2-py2.py3-none-any.whl (347 kB)\n",
      "Installing collected packages: pytz, tzdata, pandas\n",
      "\u001b[2K   \u001b[90m━━━━━━━━━━━━━━━━━━━━━━━━━━━━━━━━━━━━━━━━\u001b[0m \u001b[32m3/3\u001b[0m [pandas]2m2/3\u001b[0m [pandas]\n",
      "\u001b[1A\u001b[2KSuccessfully installed pandas-2.3.0 pytz-2025.2 tzdata-2025.2\n"
     ]
    }
   ],
   "source": [
    "# !pip install pandas"
   ]
  },
  {
   "cell_type": "markdown",
   "metadata": {
    "id": "z-RUvBYrz7Y_",
    "vscode": {
     "languageId": "plaintext"
    }
   },
   "source": [
    "## 1. DataFrame 생성 및 기본 조작\n",
    "\n",
    "### 1.1 Pandas 라이브러리 소개\n",
    "\n",
    "**🤔 Pandas를 왜 사용할까요?**\n",
    "\n",
    "데이터 분석에서 가장 많이 다루는 형태는 **표 형태의 구조화된 데이터**입니다:\n",
    "- Excel 스프레드시트\n",
    "- CSV 파일\n",
    "- 데이터베이스 테이블\n",
    "- 설문조사 결과\n",
    "\n",
    "**📊 Pandas가 해결하는 문제들:**\n",
    "1. **데이터 로딩**: 다양한 형식(CSV, Excel, JSON)에서 쉽게 데이터 읽기\n",
    "2. **데이터 정제**: 결측치, 중복값, 이상치 처리\n",
    "3. **데이터 변환**: 필터링, 정렬, 그룹화, 집계\n",
    "4. **데이터 분석**: 통계 계산, 상관관계 분석\n",
    "5. **데이터 저장**: 처리된 데이터를 다양한 형식으로 저장\n",
    "\n",
    "**⚡ 언제 Pandas를 사용하나요?**\n",
    "- ✅ 표 형태 데이터 분석할 때\n",
    "- ✅ CSV, Excel 파일을 다룰 때\n",
    "- ✅ 데이터 전처리가 필요할 때\n",
    "- ✅ 그룹별 통계를 계산할 때\n",
    "- ❌ 이미지, 텍스트 분석 (다른 라이브러리 필요)\n",
    "- ❌ 실시간 스트리밍 데이터 (다른 도구 필요)\n"
   ]
  },
  {
   "cell_type": "code",
   "execution_count": null,
   "metadata": {
    "id": "RdbssPrBz7ZC",
    "outputId": "6eb94d78-81eb-4823-a723-46cac1bf8d58"
   },
   "outputs": [
    {
     "name": "stdout",
     "output_type": "stream",
     "text": [
      "=== Pandas 라이브러리 소개 ===\n",
      "Pandas 버전: 2.0.3\n",
      "NumPy 버전: 1.24.4\n"
     ]
    }
   ],
   "source": [
    "# Pandas 라이브러리 설치 및 임포트\n",
    "import pandas as pd\n",
    "import numpy as np\n",
    "from datetime import datetime, timedelta\n",
    "import warnings\n",
    "warnings.filterwarnings('ignore')\n",
    "\n",
    "print(\"=== Pandas 라이브러리 소개 ===\")\n",
    "print(f\"Pandas 버전: {pd.__version__}\")\n",
    "print(f\"NumPy 버전: {np.__version__}\")"
   ]
  },
  {
   "cell_type": "markdown",
   "metadata": {
    "id": "7JcB8pA70GTF"
   },
   "source": [
    "📊 Pandas 주요 특징:\n",
    "1. 구조화된 데이터 처리를 위한 라이브러리\n",
    "2. Excel, CSV, JSON 등 다양한 형식 지원\n",
    "3. 강력한 데이터 조작 및 분석 기능\n",
    "4. SQL과 유사한 데이터 조작 가능\n",
    "5. 결측치 처리와 데이터 정제 기능"
   ]
  },
  {
   "cell_type": "markdown",
   "metadata": {
    "id": "sLx2kH-gz7ZD"
   },
   "source": [
    "### 1.2 DataFrame 생성 방법\n"
   ]
  },
  {
   "cell_type": "code",
   "execution_count": null,
   "metadata": {
    "id": "xyh1pAt8z7ZE",
    "outputId": "08826c4c-ffeb-4935-f437-130786880f78"
   },
   "outputs": [
    {
     "name": "stdout",
     "output_type": "stream",
     "text": [
      "=== 온라인 쇼핑몰 고객 데이터 분석 시스템 ===\n",
      "📊 고객 데이터 DataFrame:\n",
      "   고객ID   이름  나이 성별  도시    구매금액  구매횟수  회원등급\n",
      "0  C001  김철수  25  남  서울  150000     3    골드\n",
      "1  C002  이영희  32  여  부산   89000     1    실버\n",
      "2  C003  박민수  28  남  대구  245000     7  플래티넘\n",
      "3  C004  최지연  35  여  서울   67000     2   브론즈\n",
      "4  C005  정다운  29  여  인천  178000     4    골드\n",
      "5  C006  송하늘  24  남  광주  134000     3    실버\n",
      "6  C007  윤서진  31  여  서울   98000     2    실버\n",
      "7  C008  장민호  27  남  대전  203000     5    골드\n",
      "\n",
      "📦 상품 데이터 DataFrame:\n",
      "   상품ID  상품명       가격  카테고리\n",
      "0  P001  노트북  1200000  전자제품\n",
      "1  P002  마우스    35000  전자제품\n",
      "2  P003  키보드    89000  전자제품\n",
      "3  P004   책상   150000    가구\n",
      "4  P005   의자   200000    가구\n",
      "\n",
      "=== DataFrame 기본 정보 ===\n",
      "데이터 크기: (8, 9)\n",
      "컬럼 정보:\n",
      "<class 'pandas.core.frame.DataFrame'>\n",
      "RangeIndex: 8 entries, 0 to 7\n",
      "Data columns (total 9 columns):\n",
      " #   Column      Non-Null Count  Dtype \n",
      "---  ------      --------------  ----- \n",
      " 0   Unnamed: 0  8 non-null      int64 \n",
      " 1   고객ID        8 non-null      object\n",
      " 2   이름          8 non-null      object\n",
      " 3   나이          8 non-null      int64 \n",
      " 4   성별          8 non-null      object\n",
      " 5   도시          8 non-null      object\n",
      " 6   구매금액        8 non-null      int64 \n",
      " 7   구매횟수        8 non-null      int64 \n",
      " 8   회원등급        8 non-null      object\n",
      "dtypes: int64(4), object(5)\n",
      "memory usage: 704.0+ bytes\n",
      "None\n",
      "\n",
      "기본 통계:\n",
      "       Unnamed: 0         나이           구매금액     구매횟수\n",
      "count     8.00000   8.000000       8.000000  8.00000\n",
      "mean      3.50000  28.875000  145500.000000  3.37500\n",
      "std       2.44949   3.681518   60975.404878  1.92261\n",
      "min       0.00000  24.000000   67000.000000  1.00000\n",
      "25%       1.75000  26.500000   95750.000000  2.00000\n",
      "50%       3.50000  28.500000  142000.000000  3.00000\n",
      "75%       5.25000  31.250000  184250.000000  4.25000\n",
      "max       7.00000  35.000000  245000.000000  7.00000\n",
      "\n",
      "=== 데이터 조회 및 선택 ===\n",
      "이름 컬럼만 선택:\n",
      "0    김철수\n",
      "1    이영희\n",
      "2    박민수\n",
      "3    최지연\n",
      "4    정다운\n",
      "5    송하늘\n",
      "6    윤서진\n",
      "7    장민호\n",
      "Name: 이름, dtype: object\n",
      "\n",
      "이름과 구매금액 선택:\n",
      "    이름    구매금액\n",
      "0  김철수  150000\n",
      "1  이영희   89000\n",
      "2  박민수  245000\n",
      "3  최지연   67000\n",
      "4  정다운  178000\n",
      "5  송하늘  134000\n",
      "6  윤서진   98000\n",
      "7  장민호  203000\n",
      "\n",
      "첫 3행 선택:\n",
      "   Unnamed: 0  고객ID   이름  나이 성별  도시    구매금액  구매횟수  회원등급\n",
      "0           0  C001  김철수  25  남  서울  150000     3    골드\n",
      "1           1  C002  이영희  32  여  부산   89000     1    실버\n",
      "2           2  C003  박민수  28  남  대구  245000     7  플래티넘\n",
      "\n",
      "구매금액이 100000원 이상인 고객:\n",
      "   Unnamed: 0  고객ID   이름  나이 성별  도시    구매금액  구매횟수  회원등급\n",
      "0           0  C001  김철수  25  남  서울  150000     3    골드\n",
      "2           2  C003  박민수  28  남  대구  245000     7  플래티넘\n",
      "4           4  C005  정다운  29  여  인천  178000     4    골드\n",
      "5           5  C006  송하늘  24  남  광주  134000     3    실버\n",
      "7           7  C008  장민호  27  남  대전  203000     5    골드\n",
      "\n",
      "=== 컬럼 추가 후 DataFrame ===\n",
      "    이름    구매금액        평균구매금액  VIP여부\n",
      "0  김철수  150000  50000.000000   True\n",
      "1  이영희   89000  89000.000000  False\n",
      "2  박민수  245000  35000.000000   True\n",
      "3  최지연   67000  33500.000000  False\n",
      "4  정다운  178000  44500.000000   True\n",
      "5  송하늘  134000  44666.666667  False\n",
      "6  윤서진   98000  49000.000000  False\n",
      "7  장민호  203000  40600.000000   True\n"
     ]
    }
   ],
   "source": [
    "# 온라인 쇼핑몰 고객 데이터 생성 및 조작\n",
    "print(\"=== 온라인 쇼핑몰 고객 데이터 분석 시스템 ===\")\n",
    "\n",
    "# 1. 딕셔너리로 DataFrame 생성\n",
    "customer_data = {\n",
    "    '고객ID': ['C001', 'C002', 'C003', 'C004', 'C005', 'C006', 'C007', 'C008'],\n",
    "    '이름': ['김철수', '이영희', '박민수', '최지연', '정다운', '송하늘', '윤서진', '장민호'],\n",
    "    '나이': [25, 32, 28, 35, 29, 24, 31, 27],\n",
    "    '성별': ['남', '여', '남', '여', '여', '남', '여', '남'],\n",
    "    '도시': ['서울', '부산', '대구', '서울', '인천', '광주', '서울', '대전'],\n",
    "    '구매금액': [150000, 89000, 245000, 67000, 178000, 134000, 98000, 203000],\n",
    "    '구매횟수': [3, 1, 7, 2, 4, 3, 2, 5],\n",
    "    '회원등급': ['골드', '실버', '플래티넘', '브론즈', '골드', '실버', '실버', '골드']\n",
    "}\n",
    "\n",
    "df = pd.DataFrame(customer_data)\n",
    "\n",
    "print(\"📊 고객 데이터 DataFrame:\")\n",
    "print(df)\n",
    "\n",
    "# 2. 리스트로 DataFrame 생성\n",
    "product_data = [\n",
    "    ['P001', '노트북', 1200000, '전자제품'],\n",
    "    ['P002', '마우스', 35000, '전자제품'],\n",
    "    ['P003', '키보드', 89000, '전자제품'],\n",
    "    ['P004', '책상', 150000, '가구'],\n",
    "    ['P005', '의자', 200000, '가구']\n",
    "]\n",
    "\n",
    "df_products = pd.DataFrame(product_data,\n",
    "                          columns=['상품ID', '상품명', '가격', '카테고리'])\n",
    "print(f\"\\n📦 상품 데이터 DataFrame:\")\n",
    "print(df_products)\n",
    "\n",
    "# 3. CSV 파일에서 DataFrame 생성 (추가예정)\n",
    "print(f\"\\n=== DataFrame 기본 정보 ===\")\n",
    "df = pd.read_csv(\"고객데이터.csv\", encoding='CP949')\n",
    "# df.to_csv(\"고객데이터.csv\",encoding='CP949') 저장\n",
    "print(f\"데이터 크기: {df.shape}\")\n",
    "print(f\"컬럼 정보:\")\n",
    "print(df.info())\n",
    "\n",
    "print(f\"\\n기본 통계:\")\n",
    "print(df.describe())\n",
    "\n",
    "# 4. 기본 조작 - 인덱싱과 슬라이싱\n",
    "print(f\"\\n=== 데이터 조회 및 선택 ===\")\n",
    "\n",
    "# 특정 컬럼 선택\n",
    "print(\"이름 컬럼만 선택:\")\n",
    "print(df['이름'])\n",
    "\n",
    "# 여러 컬럼 선택\n",
    "print(f\"\\n이름과 구매금액 선택:\")\n",
    "print(df[['이름', '구매금액']])\n",
    "\n",
    "# 행 선택 (iloc)\n",
    "print(f\"\\n첫 3행 선택:\")\n",
    "print(df.iloc[:3])\n",
    "\n",
    "# 조건부 선택 (loc)\n",
    "print(f\"\\n구매금액이 100000원 이상인 고객:\")\n",
    "print(df.loc[df['구매금액'] >= 100000])\n",
    "\n",
    "# 5. 새로운 컬럼 추가\n",
    "df['평균구매금액'] = df['구매금액'] / df['구매횟수']\n",
    "df['VIP여부'] = df['구매금액'] >= 150000\n",
    "\n",
    "print(f\"\\n=== 컬럼 추가 후 DataFrame ===\")\n",
    "print(df[['이름', '구매금액', '평균구매금액', 'VIP여부']])\n"
   ]
  },
  {
   "cell_type": "markdown",
   "metadata": {
    "id": "ssxkLYK4z7ZE"
   },
   "source": [
    "## 2. 데이터 필터링과 정렬\n",
    "\n",
    "### 2.1 언제 어떤 필터링을 사용할까요?\n",
    "\n",
    "**🔍 데이터 필터링의 목적:**\n",
    "1. **이상치 제거**: 잘못된 데이터 걸러내기\n",
    "2. **관심 그룹 추출**: 특정 조건의 고객만 분석\n",
    "3. **데이터 품질 향상**: 불완전한 데이터 제외\n",
    "4. **세분화 분석**: 그룹별 특성 파악\n",
    "\n",
    "**⚡ 상황별 필터링 기법:**\n",
    "\n",
    "| 상황 | 사용 기법 | 예시 |\n",
    "|------|-----------|------|\n",
    "| **단일 조건** | `df[조건]` | `df[df['나이'] >= 30]` |\n",
    "| **여러 AND 조건** | `&` 연산자 | `df[(df['나이'] >= 30) & (df['성별'] == '남')]` |\n",
    "| **여러 OR 조건** | `\\|` 연산자 | `df[(df['도시'] == '서울') \\| (df['도시'] == '부산')]` |\n",
    "| **목록에서 선택** | `isin()` | `df[df['도시'].isin(['서울', '부산'])]` |\n",
    "| **텍스트 포함** | `str.contains()` | `df[df['이름'].str.contains('김')]` |\n",
    "| **범위 조건** | `between()` | `df[df['나이'].between(20, 30)]` |\n",
    "\n",
    "**💡 정렬을 언제 사용할까요?**\n",
    "\n",
    "✅ **정렬이 유용한 경우:**\n",
    "- **순위 확인**: 매출 1위 고객 찾기\n",
    "- **이상치 탐지**: 극값 데이터 확인\n",
    "- **패턴 파악**: 시간순 변화 관찰\n",
    "- **보고서 작성**: 깔끔한 데이터 표시\n",
    "\n",
    "### 2.2 조건부 필터링 실습\n"
   ]
  },
  {
   "cell_type": "code",
   "execution_count": null,
   "metadata": {
    "id": "W1QG5Dtoz7ZF",
    "outputId": "160ed4a3-13d7-420f-ebeb-b1459c9db58e"
   },
   "outputs": [
    {
     "name": "stdout",
     "output_type": "stream",
     "text": [
      "=== 고급 데이터 필터링 및 정렬 ===\n",
      "1. 서울 거주 VIP 고객:\n",
      "    이름  도시    구매금액  VIP여부\n",
      "0  김철수  서울  150000   True\n",
      "\n",
      "2. 특정 도시 고객 (서울, 부산):\n",
      "    이름  도시    구매금액\n",
      "0  김철수  서울  150000\n",
      "1  이영희  부산   89000\n",
      "3  최지연  서울   67000\n",
      "6  윤서진  서울   98000\n",
      "\n",
      "3. 구매금액 기준 내림차순 정렬:\n",
      "    이름    구매금액  회원등급\n",
      "2  박민수  245000  플래티넘\n",
      "7  장민호  203000    골드\n",
      "4  정다운  178000    골드\n",
      "0  김철수  150000    골드\n",
      "5  송하늘  134000    실버\n",
      "6  윤서진   98000    실버\n",
      "1  이영희   89000    실버\n",
      "3  최지연   67000   브론즈\n",
      "\n",
      "4. 회원등급별, 구매금액별 정렬:\n",
      "    이름  회원등급    구매금액\n",
      "7  장민호    골드  203000\n",
      "4  정다운    골드  178000\n",
      "0  김철수    골드  150000\n",
      "3  최지연   브론즈   67000\n",
      "5  송하늘    실버  134000\n",
      "6  윤서진    실버   98000\n",
      "1  이영희    실버   89000\n",
      "2  박민수  플래티넘  245000\n"
     ]
    }
   ],
   "source": [
    "# 고급 데이터 필터링 및 정렬\n",
    "print(\"=== 고급 데이터 필터링 및 정렬 ===\")\n",
    "\n",
    "# 복합 조건 필터링\n",
    "print(\"1. 서울 거주 VIP 고객:\")\n",
    "seoul_vip = df[(df['도시'] == '서울') & (df['VIP여부'] == True)]\n",
    "print(seoul_vip[['이름', '도시', '구매금액', 'VIP여부']])\n",
    "\n",
    "# isin() 사용\n",
    "print(f\"\\n2. 특정 도시 고객 (서울, 부산):\")\n",
    "city_filter = df[df['도시'].isin(['서울', '부산'])]\n",
    "print(city_filter[['이름', '도시', '구매금액']])\n",
    "\n",
    "# 정렬\n",
    "print(f\"\\n3. 구매금액 기준 내림차순 정렬:\")\n",
    "sorted_by_amount = df.sort_values('구매금액', ascending=False)\n",
    "print(sorted_by_amount[['이름', '구매금액', '회원등급']])\n",
    "\n",
    "# 다중 컬럼 정렬\n",
    "print(f\"\\n4. 회원등급별, 구매금액별 정렬:\")\n",
    "multi_sorted = df.sort_values(['회원등급', '구매금액'], ascending=[True, False])\n",
    "print(multi_sorted[['이름', '회원등급', '구매금액']])\n"
   ]
  },
  {
   "cell_type": "markdown",
   "metadata": {
    "id": "83uJopXRz7ZF"
   },
   "source": [
    "## 3. 그룹화와 집계 함수\n",
    "\n",
    "### 3.1 GroupBy 연산\n"
   ]
  },
  {
   "cell_type": "code",
   "execution_count": null,
   "metadata": {
    "id": "GdfBGeToz7ZG",
    "outputId": "9959ecf9-d123-4d91-c245-59b4a64e01e1"
   },
   "outputs": [
    {
     "name": "stdout",
     "output_type": "stream",
     "text": [
      "=== 그룹화와 집계 분석 ===\n",
      "1. 도시별 고객 분석:\n",
      "        구매금액                구매횟수     나이\n",
      "        mean     sum count  mean   mean\n",
      "도시                                     \n",
      "광주  134000.0  134000     1  3.00  24.00\n",
      "대구  245000.0  245000     1  7.00  28.00\n",
      "대전  203000.0  203000     1  5.00  27.00\n",
      "부산   89000.0   89000     1  1.00  32.00\n",
      "서울  105000.0  315000     3  2.33  30.33\n",
      "인천  178000.0  178000     1  4.00  29.00\n",
      "\n",
      "2. 회원등급별 분석:\n",
      "        평균구매금액  최대구매금액  최소구매금액  총구매횟수  고객수\n",
      "회원등급                                      \n",
      "골드    177000.0  203000  150000     12    3\n",
      "브론즈    67000.0   67000   67000      2    1\n",
      "실버    107000.0  134000   89000      6    3\n",
      "플래티넘  245000.0  245000  245000      7    1\n",
      "\n",
      "3. 성별-도시별 평균 구매금액:\n",
      "성별  도시\n",
      "남   광주    134000.0\n",
      "    대구    245000.0\n",
      "    대전    203000.0\n",
      "    서울    150000.0\n",
      "여   부산     89000.0\n",
      "    서울     82500.0\n",
      "    인천    178000.0\n",
      "Name: 구매금액, dtype: float64\n",
      "\n",
      "=== 결측치 처리 ===\n",
      "결측치 현황:\n",
      "Unnamed: 0    0\n",
      "고객ID          0\n",
      "이름            0\n",
      "나이            1\n",
      "성별            0\n",
      "도시            0\n",
      "구매금액          1\n",
      "구매횟수          0\n",
      "회원등급          1\n",
      "평균구매금액        0\n",
      "VIP여부         0\n",
      "dtype: int64\n",
      "\n",
      "결측치 처리 방법:\n",
      "1. 평균값으로 채우기:\n",
      "구매금액 평균: 153571\n",
      "2. 최빈값으로 채우기:\n",
      "회원등급 최빈값: 골드\n",
      "\n",
      "처리 후 결측치:\n",
      "Unnamed: 0    0\n",
      "고객ID          0\n",
      "이름            0\n",
      "나이            0\n",
      "성별            0\n",
      "도시            0\n",
      "구매금액          0\n",
      "구매횟수          0\n",
      "회원등급          0\n",
      "평균구매금액        0\n",
      "VIP여부         0\n",
      "dtype: int64\n"
     ]
    }
   ],
   "source": [
    "# 그룹화와 집계 분석\n",
    "print(\"=== 그룹화와 집계 분석 ===\")\n",
    "\n",
    "# 1. 도시별 집계\n",
    "print(\"1. 도시별 고객 분석:\")\n",
    "city_analysis = df.groupby('도시').agg({\n",
    "    '구매금액': ['mean', 'sum', 'count'],\n",
    "    '구매횟수': 'mean',\n",
    "    '나이': 'mean'\n",
    "}).round(2)\n",
    "print(city_analysis)\n",
    "\n",
    "# 2. 회원등급별 분석\n",
    "print(f\"\\n2. 회원등급별 분석:\")\n",
    "grade_analysis = df.groupby('회원등급').agg({\n",
    "    '구매금액': ['mean', 'max', 'min'],\n",
    "    '구매횟수': 'sum',\n",
    "    '이름': 'count'\n",
    "})\n",
    "grade_analysis.columns = ['평균구매금액', '최대구매금액', '최소구매금액', '총구매횟수', '고객수']\n",
    "print(grade_analysis.round(2))\n",
    "\n",
    "# 3. 성별, 도시별 다중 그룹화\n",
    "print(f\"\\n3. 성별-도시별 평균 구매금액:\")\n",
    "multi_group = df.groupby(['성별', '도시'])['구매금액'].mean().round(2)\n",
    "print(multi_group)\n",
    "\n",
    "# 4. 결측치 처리\n",
    "print(f\"\\n=== 결측치 처리 ===\")\n",
    "\n",
    "# 의도적으로 결측치 생성 (시뮬레이션)\n",
    "df_with_missing = df.copy()\n",
    "df_with_missing.loc[1, '구매금액'] = np.nan\n",
    "df_with_missing.loc[3, '나이'] = np.nan\n",
    "df_with_missing.loc[5, '회원등급'] = np.nan\n",
    "\n",
    "print(\"결측치 현황:\")\n",
    "print(df_with_missing.isnull().sum())\n",
    "\n",
    "# 결측치 처리 방법\n",
    "print(f\"\\n결측치 처리 방법:\")\n",
    "print(\"1. 평균값으로 채우기:\")\n",
    "df_filled = df_with_missing.copy()\n",
    "df_filled['구매금액'].fillna(df_filled['구매금액'].mean(), inplace=True)\n",
    "df_filled['나이'].fillna(df_filled['나이'].mean(), inplace=True)\n",
    "print(f\"구매금액 평균: {df_filled['구매금액'].mean():.0f}\")\n",
    "\n",
    "print(\"2. 최빈값으로 채우기:\")\n",
    "df_filled['회원등급'].fillna(df_filled['회원등급'].mode()[0], inplace=True)\n",
    "print(f\"회원등급 최빈값: {df_filled['회원등급'].mode()[0]}\")\n",
    "\n",
    "print(f\"\\n처리 후 결측치:\")\n",
    "print(df_filled.isnull().sum())\n"
   ]
  },
  {
   "cell_type": "markdown",
   "metadata": {
    "id": "WXbXs7LTz7ZH",
    "outputId": "1889d4b2-eb91-4f03-b4c6-06b090d18aa0",
    "vscode": {
     "languageId": "plaintext"
    }
   },
   "source": [
    "## 4. 정리 및 다음 강의 안내\n",
    "\n",
    "### 🎯 오늘 배운 내용\n",
    "1. **DataFrame 생성**: 딕셔너리, 리스트, CSV에서 생성\n",
    "2. **데이터 조작**: 인덱싱, 슬라이싱, 컬럼 추가\n",
    "3. **필터링과 정렬**: 조건부 필터링, 다중 정렬\n",
    "4. **그룹화와 집계**: GroupBy, 집계 함수 활용\n",
    "5. **결측치 처리**: 평균값, 최빈값으로 채우기\n",
    "\n",
    "### 📝 숙제\n",
    "1. 자신만의 데이터셋으로 DataFrame 생성하기\n",
    "2. 복합 조건으로 데이터 필터링해보기\n",
    "3. 그룹화를 활용한 데이터 분석 실습\n",
    "\n",
    "### 🔜 다음 강의: 데이터 시각화\n",
    "- Matplotlib 기본 사용법\n",
    "- 다양한 그래프 생성\n",
    "- Seaborn 고급 시각화\n"
   ]
  },
  {
   "cell_type": "code",
   "execution_count": null,
   "metadata": {
    "id": "MtNT3NUzuT11"
   },
   "outputs": [],
   "source": []
  },
  {
   "cell_type": "code",
   "execution_count": null,
   "metadata": {
    "id": "hK4915OxuT11"
   },
   "outputs": [],
   "source": []
  }
 ],
 "metadata": {
  "colab": {
   "provenance": []
  },
  "kernelspec": {
   "display_name": "aibasic",
   "language": "python",
   "name": "aibasic"
  },
  "language_info": {
   "codemirror_mode": {
    "name": "ipython",
    "version": 3
   },
   "file_extension": ".py",
   "mimetype": "text/x-python",
   "name": "python",
   "nbconvert_exporter": "python",
   "pygments_lexer": "ipython3",
   "version": "3.9.23"
  }
 },
 "nbformat": 4,
 "nbformat_minor": 4
}
